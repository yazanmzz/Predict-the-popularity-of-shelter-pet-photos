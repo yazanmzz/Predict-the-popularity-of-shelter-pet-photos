{
 "cells": [
  {
   "cell_type": "code",
   "execution_count": 1,
   "id": "6a683f97",
   "metadata": {
    "execution": {
     "iopub.execute_input": "2021-10-12T05:51:03.981186Z",
     "iopub.status.busy": "2021-10-12T05:51:03.979625Z",
     "iopub.status.idle": "2021-10-12T05:51:11.286493Z",
     "shell.execute_reply": "2021-10-12T05:51:11.285894Z",
     "shell.execute_reply.started": "2021-10-11T05:56:48.928249Z"
    },
    "papermill": {
     "duration": 7.322371,
     "end_time": "2021-10-12T05:51:11.286647",
     "exception": false,
     "start_time": "2021-10-12T05:51:03.964276",
     "status": "completed"
    },
    "tags": []
   },
   "outputs": [
    {
     "data": {
      "text/html": [
       "<style type='text/css'>\n",
       ".datatable table.frame { margin-bottom: 0; }\n",
       ".datatable table.frame thead { border-bottom: none; }\n",
       ".datatable table.frame tr.coltypes td {  color: #FFFFFF;  line-height: 6px;  padding: 0 0.5em;}\n",
       ".datatable .bool    { background: #DDDD99; }\n",
       ".datatable .object  { background: #565656; }\n",
       ".datatable .int     { background: #5D9E5D; }\n",
       ".datatable .float   { background: #4040CC; }\n",
       ".datatable .str     { background: #CC4040; }\n",
       ".datatable .time    { background: #40CC40; }\n",
       ".datatable .row_index {  background: var(--jp-border-color3);  border-right: 1px solid var(--jp-border-color0);  color: var(--jp-ui-font-color3);  font-size: 9px;}\n",
       ".datatable .frame tbody td { text-align: left; }\n",
       ".datatable .frame tr.coltypes .row_index {  background: var(--jp-border-color0);}\n",
       ".datatable th:nth-child(2) { padding-left: 12px; }\n",
       ".datatable .hellipsis {  color: var(--jp-cell-editor-border-color);}\n",
       ".datatable .vellipsis {  background: var(--jp-layout-color0);  color: var(--jp-cell-editor-border-color);}\n",
       ".datatable .na {  color: var(--jp-cell-editor-border-color);  font-size: 80%;}\n",
       ".datatable .sp {  opacity: 0.25;}\n",
       ".datatable .footer { font-size: 9px; }\n",
       ".datatable .frame_dimensions {  background: var(--jp-border-color3);  border-top: 1px solid var(--jp-border-color0);  color: var(--jp-ui-font-color3);  display: inline-block;  opacity: 0.6;  padding: 1px 10px 1px 5px;}\n",
       "</style>\n"
      ],
      "text/plain": [
       "<IPython.core.display.HTML object>"
      ]
     },
     "metadata": {},
     "output_type": "display_data"
    },
    {
     "name": "stderr",
     "output_type": "stream",
     "text": [
      "2021-10-12 05:51:07.527634: I tensorflow/stream_executor/platform/default/dso_loader.cc:49] Successfully opened dynamic library libcudart.so.11.0\n"
     ]
    }
   ],
   "source": [
    "import os\n",
    "import random\n",
    "\n",
    "import numpy as np # linear algebra\n",
    "import pandas as pd # data processing, CSV file I/O (e.g. pd.read_csv)\n",
    "import lightgbm as lgb\n",
    "import tensorflow as tf\n",
    "from tensorflow.keras import Sequential,Model\n",
    "from tensorflow.keras.layers import Dense,Conv2D,Flatten,Dropout, Input, Concatenate, BatchNormalization\n",
    "from tensorflow.keras.callbacks import EarlyStopping,ReduceLROnPlateau\n",
    "from tensorflow.keras.optimizers.schedules import ExponentialDecay\n",
    "from PIL import Image\n",
    "from sklearn.model_selection import train_test_split\n",
    "import matplotlib.pyplot as plt"
   ]
  },
  {
   "cell_type": "code",
   "execution_count": 2,
   "id": "d1a1d24f",
   "metadata": {
    "execution": {
     "iopub.execute_input": "2021-10-12T05:51:11.315256Z",
     "iopub.status.busy": "2021-10-12T05:51:11.314393Z",
     "iopub.status.idle": "2021-10-12T05:51:11.316928Z",
     "shell.execute_reply": "2021-10-12T05:51:11.316501Z",
     "shell.execute_reply.started": "2021-10-11T05:56:48.93839Z"
    },
    "papermill": {
     "duration": 0.018853,
     "end_time": "2021-10-12T05:51:11.317036",
     "exception": false,
     "start_time": "2021-10-12T05:51:11.298183",
     "status": "completed"
    },
    "tags": []
   },
   "outputs": [],
   "source": [
    "# Constants\n",
    "\n",
    "AUTOTUNE = tf.data.experimental.AUTOTUNE  \n",
    "img_size = 224\n",
    "channels = 3\n",
    "Batch_size = 64\n",
    "\n",
    "# Directory for dataset\n",
    "\n",
    "train_dir = \"/kaggle/input/petfinder-pawpularity-score/train/\"\n",
    "test_dir = \"/kaggle/input/petfinder-pawpularity-score/test/\"\n",
    "\n",
    "def seed_everything():\n",
    "    np.random.seed(123)\n",
    "    random.seed(123)\n",
    "    tf.random.set_seed(123)\n",
    "    os.environ[\"TF_CPP_MIN_LOG_LEVEL\"] = '2'\n",
    "    os.environ['PYTHONHASHSEED'] = str(123)\n",
    "\n",
    "seed_everything()"
   ]
  },
  {
   "cell_type": "markdown",
   "id": "0456616e",
   "metadata": {
    "papermill": {
     "duration": 0.010757,
     "end_time": "2021-10-12T05:51:11.338707",
     "exception": false,
     "start_time": "2021-10-12T05:51:11.327950",
     "status": "completed"
    },
    "tags": []
   },
   "source": [
    "## Preprocessing"
   ]
  },
  {
   "cell_type": "code",
   "execution_count": 3,
   "id": "e2c014ab",
   "metadata": {
    "execution": {
     "iopub.execute_input": "2021-10-12T05:51:11.366073Z",
     "iopub.status.busy": "2021-10-12T05:51:11.365472Z",
     "iopub.status.idle": "2021-10-12T05:51:11.419979Z",
     "shell.execute_reply": "2021-10-12T05:51:11.419519Z",
     "shell.execute_reply.started": "2021-10-11T05:56:48.981564Z"
    },
    "papermill": {
     "duration": 0.070665,
     "end_time": "2021-10-12T05:51:11.420083",
     "exception": false,
     "start_time": "2021-10-12T05:51:11.349418",
     "status": "completed"
    },
    "tags": []
   },
   "outputs": [],
   "source": [
    "# Reading dataset train, test in df and df_test respectively\n",
    "\n",
    "df = pd.read_csv(\"/kaggle/input/petfinder-pawpularity-score/train.csv\")\n",
    "df_test = pd.read_csv(\"/kaggle/input/petfinder-pawpularity-score/test.csv\")\n",
    "Id = df_test[\"Id\"].copy()\n",
    "\n",
    "\n",
    "# Converting Id column for taking images\n",
    "\n",
    "df[\"Id\"] = df[\"Id\"].apply(lambda x : \"/kaggle/input/petfinder-pawpularity-score/train/\" + x + \".jpg\")\n",
    "df_test[\"Id\"] = df_test[\"Id\"].apply(lambda x : \"/kaggle/input/petfinder-pawpularity-score/test/\" + x + \".jpg\")"
   ]
  },
  {
   "cell_type": "code",
   "execution_count": 4,
   "id": "01a1fdba",
   "metadata": {
    "execution": {
     "iopub.execute_input": "2021-10-12T05:51:11.454135Z",
     "iopub.status.busy": "2021-10-12T05:51:11.453256Z",
     "iopub.status.idle": "2021-10-12T05:51:11.455869Z",
     "shell.execute_reply": "2021-10-12T05:51:11.455476Z",
     "shell.execute_reply.started": "2021-10-11T05:56:49.021781Z"
    },
    "papermill": {
     "duration": 0.024624,
     "end_time": "2021-10-12T05:51:11.455970",
     "exception": false,
     "start_time": "2021-10-12T05:51:11.431346",
     "status": "completed"
    },
    "tags": []
   },
   "outputs": [],
   "source": [
    "# Defining functions for reading and augmentation of images\n",
    "# A seperate function for creating dataset\n",
    "\n",
    "# Augmenting the image\n",
    "def image_preprocess(is_labelled):  \n",
    "    def augment(image):\n",
    "        image = tf.image.random_flip_left_right(image)\n",
    "#         image = tf.image.random_flip_up_down(image)\n",
    "        image = tf.image.random_saturation(image, 0.95, 1.05)\n",
    "        image = tf.image.random_contrast(image, 0.95, 1.05)\n",
    "        return image\n",
    "    \n",
    "    def can_be_augmented(img, label):\n",
    "        return augment(img), label\n",
    "    \n",
    "#   If record has label both image and lable will be returned\n",
    "    return can_be_augmented if is_labelled else augment\n",
    "\n",
    "\n",
    "\n",
    "# Reading and rescaling images\n",
    "def image_read(is_labelled):\n",
    "    def decode(path):\n",
    "        image = tf.io.read_file(path)\n",
    "        image = tf.image.decode_jpeg(image, channels=channels)\n",
    "        image = tf.cast(image, tf.float32)\n",
    "        image = tf.image.resize(image, (img_size, img_size))\n",
    "        image = tf.keras.applications.efficientnet.preprocess_input(image) \n",
    "        return image\n",
    "    \n",
    "    def can_be_decoded(path, label):\n",
    "        return decode(path), label\n",
    "    \n",
    "#   If record has label both image and lable will be returned\n",
    "\n",
    "    return can_be_decoded if is_labelled else decode\n",
    "\n",
    "\n",
    "# Creating the dataset\n",
    "def create_dataset(df, batch_size, is_labelled = False, augment = False, shuffle = False):\n",
    "    image_read_fn = image_read(is_labelled)\n",
    "    image_preprocess_fn = image_preprocess(is_labelled)\n",
    "    \n",
    "    if is_labelled:\n",
    "        dataset = tf.data.Dataset.from_tensor_slices((df[\"Id\"].values, df[\"Pawpularity\"].values))\n",
    "    else:\n",
    "        dataset = tf.data.Dataset.from_tensor_slices((df[\"Id\"].values))\n",
    "    \n",
    "    dataset = dataset.map(image_read_fn, num_parallel_calls=AUTOTUNE)\n",
    "    dataset = dataset.map(image_preprocess_fn, num_parallel_calls=AUTOTUNE) if augment else dataset\n",
    "    dataset = dataset.shuffle(1024, reshuffle_each_iteration=True) if shuffle else dataset\n",
    "    dataset = dataset.batch(batch_size)\n",
    "    dataset = dataset.prefetch(AUTOTUNE)\n",
    "    return dataset"
   ]
  },
  {
   "cell_type": "code",
   "execution_count": 5,
   "id": "7162647d",
   "metadata": {
    "execution": {
     "iopub.execute_input": "2021-10-12T05:51:13.330114Z",
     "iopub.status.busy": "2021-10-12T05:51:11.545692Z",
     "iopub.status.idle": "2021-10-12T05:51:13.885317Z",
     "shell.execute_reply": "2021-10-12T05:51:13.884437Z",
     "shell.execute_reply.started": "2021-10-11T05:56:49.036747Z"
    },
    "papermill": {
     "duration": 2.418797,
     "end_time": "2021-10-12T05:51:13.885472",
     "exception": false,
     "start_time": "2021-10-12T05:51:11.466675",
     "status": "completed"
    },
    "tags": []
   },
   "outputs": [
    {
     "name": "stderr",
     "output_type": "stream",
     "text": [
      "2021-10-12 05:51:11.484207: I tensorflow/compiler/jit/xla_cpu_device.cc:41] Not creating XLA devices, tf_xla_enable_xla_devices not set\n",
      "2021-10-12 05:51:11.486527: I tensorflow/stream_executor/platform/default/dso_loader.cc:49] Successfully opened dynamic library libcuda.so.1\n",
      "2021-10-12 05:51:11.540692: I tensorflow/stream_executor/cuda/cuda_gpu_executor.cc:941] successful NUMA node read from SysFS had negative value (-1), but there must be at least one NUMA node, so returning NUMA node zero\n",
      "2021-10-12 05:51:11.541502: I tensorflow/core/common_runtime/gpu/gpu_device.cc:1720] Found device 0 with properties: \n",
      "pciBusID: 0000:00:04.0 name: Tesla P100-PCIE-16GB computeCapability: 6.0\n",
      "coreClock: 1.3285GHz coreCount: 56 deviceMemorySize: 15.90GiB deviceMemoryBandwidth: 681.88GiB/s\n",
      "2021-10-12 05:51:11.541601: I tensorflow/stream_executor/platform/default/dso_loader.cc:49] Successfully opened dynamic library libcudart.so.11.0\n",
      "2021-10-12 05:51:11.541664: I tensorflow/stream_executor/platform/default/dso_loader.cc:49] Successfully opened dynamic library libcublas.so.11\n",
      "2021-10-12 05:51:11.541696: I tensorflow/stream_executor/platform/default/dso_loader.cc:49] Successfully opened dynamic library libcublasLt.so.11\n",
      "2021-10-12 05:51:11.541740: I tensorflow/stream_executor/platform/default/dso_loader.cc:49] Successfully opened dynamic library libcufft.so.10\n",
      "2021-10-12 05:51:11.541773: I tensorflow/stream_executor/platform/default/dso_loader.cc:49] Successfully opened dynamic library libcurand.so.10\n",
      "2021-10-12 05:51:11.541805: I tensorflow/stream_executor/platform/default/dso_loader.cc:49] Successfully opened dynamic library libcusolver.so.10\n",
      "2021-10-12 05:51:11.541836: I tensorflow/stream_executor/platform/default/dso_loader.cc:49] Successfully opened dynamic library libcusparse.so.11\n",
      "2021-10-12 05:51:11.541882: I tensorflow/stream_executor/platform/default/dso_loader.cc:49] Successfully opened dynamic library libcudnn.so.8\n",
      "2021-10-12 05:51:11.541986: I tensorflow/stream_executor/cuda/cuda_gpu_executor.cc:941] successful NUMA node read from SysFS had negative value (-1), but there must be at least one NUMA node, so returning NUMA node zero\n",
      "2021-10-12 05:51:11.542676: I tensorflow/stream_executor/cuda/cuda_gpu_executor.cc:941] successful NUMA node read from SysFS had negative value (-1), but there must be at least one NUMA node, so returning NUMA node zero\n",
      "2021-10-12 05:51:11.544367: I tensorflow/core/common_runtime/gpu/gpu_device.cc:1862] Adding visible gpu devices: 0\n",
      "2021-10-12 05:51:11.546877: I tensorflow/core/platform/cpu_feature_guard.cc:142] This TensorFlow binary is optimized with oneAPI Deep Neural Network Library (oneDNN) to use the following CPU instructions in performance-critical operations:  AVX2 AVX512F FMA\n",
      "To enable them in other operations, rebuild TensorFlow with the appropriate compiler flags.\n",
      "2021-10-12 05:51:11.547943: I tensorflow/compiler/jit/xla_gpu_device.cc:99] Not creating XLA devices, tf_xla_enable_xla_devices not set\n",
      "2021-10-12 05:51:11.548107: I tensorflow/stream_executor/cuda/cuda_gpu_executor.cc:941] successful NUMA node read from SysFS had negative value (-1), but there must be at least one NUMA node, so returning NUMA node zero\n",
      "2021-10-12 05:51:11.548680: I tensorflow/core/common_runtime/gpu/gpu_device.cc:1720] Found device 0 with properties: \n",
      "pciBusID: 0000:00:04.0 name: Tesla P100-PCIE-16GB computeCapability: 6.0\n",
      "coreClock: 1.3285GHz coreCount: 56 deviceMemorySize: 15.90GiB deviceMemoryBandwidth: 681.88GiB/s\n",
      "2021-10-12 05:51:11.548749: I tensorflow/stream_executor/platform/default/dso_loader.cc:49] Successfully opened dynamic library libcudart.so.11.0\n",
      "2021-10-12 05:51:11.548783: I tensorflow/stream_executor/platform/default/dso_loader.cc:49] Successfully opened dynamic library libcublas.so.11\n",
      "2021-10-12 05:51:11.548807: I tensorflow/stream_executor/platform/default/dso_loader.cc:49] Successfully opened dynamic library libcublasLt.so.11\n",
      "2021-10-12 05:51:11.548834: I tensorflow/stream_executor/platform/default/dso_loader.cc:49] Successfully opened dynamic library libcufft.so.10\n",
      "2021-10-12 05:51:11.548852: I tensorflow/stream_executor/platform/default/dso_loader.cc:49] Successfully opened dynamic library libcurand.so.10\n",
      "2021-10-12 05:51:11.548870: I tensorflow/stream_executor/platform/default/dso_loader.cc:49] Successfully opened dynamic library libcusolver.so.10\n",
      "2021-10-12 05:51:11.548888: I tensorflow/stream_executor/platform/default/dso_loader.cc:49] Successfully opened dynamic library libcusparse.so.11\n",
      "2021-10-12 05:51:11.548906: I tensorflow/stream_executor/platform/default/dso_loader.cc:49] Successfully opened dynamic library libcudnn.so.8\n",
      "2021-10-12 05:51:11.548988: I tensorflow/stream_executor/cuda/cuda_gpu_executor.cc:941] successful NUMA node read from SysFS had negative value (-1), but there must be at least one NUMA node, so returning NUMA node zero\n",
      "2021-10-12 05:51:11.549609: I tensorflow/stream_executor/cuda/cuda_gpu_executor.cc:941] successful NUMA node read from SysFS had negative value (-1), but there must be at least one NUMA node, so returning NUMA node zero\n",
      "2021-10-12 05:51:11.550163: I tensorflow/core/common_runtime/gpu/gpu_device.cc:1862] Adding visible gpu devices: 0\n",
      "2021-10-12 05:51:11.551137: I tensorflow/stream_executor/platform/default/dso_loader.cc:49] Successfully opened dynamic library libcudart.so.11.0\n",
      "2021-10-12 05:51:13.317600: I tensorflow/core/common_runtime/gpu/gpu_device.cc:1261] Device interconnect StreamExecutor with strength 1 edge matrix:\n",
      "2021-10-12 05:51:13.317649: I tensorflow/core/common_runtime/gpu/gpu_device.cc:1267]      0 \n",
      "2021-10-12 05:51:13.317659: I tensorflow/core/common_runtime/gpu/gpu_device.cc:1280] 0:   N \n",
      "2021-10-12 05:51:13.319806: I tensorflow/stream_executor/cuda/cuda_gpu_executor.cc:941] successful NUMA node read from SysFS had negative value (-1), but there must be at least one NUMA node, so returning NUMA node zero\n",
      "2021-10-12 05:51:13.320520: I tensorflow/stream_executor/cuda/cuda_gpu_executor.cc:941] successful NUMA node read from SysFS had negative value (-1), but there must be at least one NUMA node, so returning NUMA node zero\n",
      "2021-10-12 05:51:13.321124: I tensorflow/stream_executor/cuda/cuda_gpu_executor.cc:941] successful NUMA node read from SysFS had negative value (-1), but there must be at least one NUMA node, so returning NUMA node zero\n",
      "2021-10-12 05:51:13.321721: I tensorflow/core/common_runtime/gpu/gpu_device.cc:1406] Created TensorFlow device (/job:localhost/replica:0/task:0/device:GPU:0 with 14915 MB memory) -> physical GPU (device: 0, name: Tesla P100-PCIE-16GB, pci bus id: 0000:00:04.0, compute capability: 6.0)\n"
     ]
    }
   ],
   "source": [
    "# Defining train, validation and test set \n",
    "\n",
    "trn = df.iloc[:9000]\n",
    "val = df.iloc[9001:]\n",
    "\n",
    "train = create_dataset(trn, Batch_size, is_labelled = True, augment = True, shuffle = True)\n",
    "validation = create_dataset(val, Batch_size, is_labelled = True, augment = False, shuffle = False)\n",
    "test = create_dataset(df_test, Batch_size, is_labelled = False, augment = False, shuffle=False)"
   ]
  },
  {
   "cell_type": "markdown",
   "id": "4e9749d4",
   "metadata": {
    "papermill": {
     "duration": 0.011385,
     "end_time": "2021-10-12T05:51:13.908734",
     "exception": false,
     "start_time": "2021-10-12T05:51:13.897349",
     "status": "completed"
    },
    "tags": []
   },
   "source": [
    "\n",
    "## CNN for Images"
   ]
  },
  {
   "cell_type": "code",
   "execution_count": 6,
   "id": "b0072ea0",
   "metadata": {
    "execution": {
     "iopub.execute_input": "2021-10-12T05:51:13.938085Z",
     "iopub.status.busy": "2021-10-12T05:51:13.937455Z",
     "iopub.status.idle": "2021-10-12T05:51:16.409702Z",
     "shell.execute_reply": "2021-10-12T05:51:16.408580Z",
     "shell.execute_reply.started": "2021-10-11T05:56:49.105725Z"
    },
    "papermill": {
     "duration": 2.488804,
     "end_time": "2021-10-12T05:51:16.409846",
     "exception": false,
     "start_time": "2021-10-12T05:51:13.921042",
     "status": "completed"
    },
    "tags": []
   },
   "outputs": [],
   "source": [
    "# Loading pretrained EfficientNet\n",
    "\n",
    "img_mod = \"/kaggle/input/keras-applications-models/EfficientNetB0.h5\"\n",
    "efnet = tf.keras.models.load_model(img_mod)\n",
    "\n",
    "# Layers of efficientnet will not be trained\n",
    "efnet.trainable = False"
   ]
  },
  {
   "cell_type": "code",
   "execution_count": 7,
   "id": "2845dd9b",
   "metadata": {
    "execution": {
     "iopub.execute_input": "2021-10-12T05:51:16.445200Z",
     "iopub.status.busy": "2021-10-12T05:51:16.444635Z",
     "iopub.status.idle": "2021-10-12T05:51:17.022701Z",
     "shell.execute_reply": "2021-10-12T05:51:17.023162Z",
     "shell.execute_reply.started": "2021-10-11T05:56:51.601711Z"
    },
    "papermill": {
     "duration": 0.600623,
     "end_time": "2021-10-12T05:51:17.023325",
     "exception": false,
     "start_time": "2021-10-12T05:51:16.422702",
     "status": "completed"
    },
    "tags": []
   },
   "outputs": [],
   "source": [
    "# Using pretrained EfficientNet with image size of (224,224,3)\n",
    "# Using relu activation function because it a regression problem\n",
    "\n",
    "model = Sequential([\n",
    "    Input(shape=(img_size, img_size, channels)),\n",
    "    efnet,\n",
    "    BatchNormalization(),\n",
    "    Dropout(0.2),\n",
    "    Dense(units = 64, activation=\"relu\"),\n",
    "    Dense(units = 1, activation=\"relu\")\n",
    "])"
   ]
  },
  {
   "cell_type": "code",
   "execution_count": 8,
   "id": "a8c72448",
   "metadata": {
    "execution": {
     "iopub.execute_input": "2021-10-12T05:51:17.051626Z",
     "iopub.status.busy": "2021-10-12T05:51:17.050847Z",
     "iopub.status.idle": "2021-10-12T05:51:17.052940Z",
     "shell.execute_reply": "2021-10-12T05:51:17.053315Z",
     "shell.execute_reply.started": "2021-10-11T05:56:52.189522Z"
    },
    "papermill": {
     "duration": 0.017999,
     "end_time": "2021-10-12T05:51:17.053474",
     "exception": false,
     "start_time": "2021-10-12T05:51:17.035475",
     "status": "completed"
    },
    "tags": []
   },
   "outputs": [],
   "source": [
    "# Early stopping helps as it stops training if val_loss(validation score) does not decrease.\n",
    "\n",
    "early_stopping = EarlyStopping(patience = 5,restore_best_weights=True)\n",
    "\n",
    "\n",
    "lr_schedule = ExponentialDecay(\n",
    "    initial_learning_rate=1e-3,\n",
    "    decay_steps=100, decay_rate=0.96,\n",
    "    staircase=True)"
   ]
  },
  {
   "cell_type": "code",
   "execution_count": 9,
   "id": "9c281c21",
   "metadata": {
    "execution": {
     "iopub.execute_input": "2021-10-12T05:51:17.082558Z",
     "iopub.status.busy": "2021-10-12T05:51:17.081489Z",
     "iopub.status.idle": "2021-10-12T05:51:17.191276Z",
     "shell.execute_reply": "2021-10-12T05:51:17.190756Z"
    },
    "papermill": {
     "duration": 0.126553,
     "end_time": "2021-10-12T05:51:17.191421",
     "exception": false,
     "start_time": "2021-10-12T05:51:17.064868",
     "status": "completed"
    },
    "tags": []
   },
   "outputs": [],
   "source": [
    "\n",
    "import tensorflow_addons as tfa\n",
    "\n",
    "\n",
    "def Ranger(sync_period=6,\n",
    "           slow_step_size=0.5,\n",
    "           learning_rate=0.001,\n",
    "           beta_1=0.9,\n",
    "           beta_2=0.999,\n",
    "           epsilon=1e-7,\n",
    "           weight_decay=0.,\n",
    "           amsgrad=False,\n",
    "           sma_threshold=5.0,\n",
    "           total_steps=0,\n",
    "           warmup_proportion=0.1,\n",
    "           min_lr=0.,\n",
    "           name=\"Ranger\"):\n",
    "    inner = tfa.optimizers.RectifiedAdam(learning_rate, beta_1, beta_2, epsilon, weight_decay, amsgrad, sma_threshold, total_steps, warmup_proportion, min_lr, name)\n",
    "    optim = tfa.optimizers.Lookahead(inner, sync_period, slow_step_size, name)\n",
    "    return optim"
   ]
  },
  {
   "cell_type": "code",
   "execution_count": 10,
   "id": "e4ab1b74",
   "metadata": {
    "execution": {
     "iopub.execute_input": "2021-10-12T05:51:17.227012Z",
     "iopub.status.busy": "2021-10-12T05:51:17.225960Z",
     "iopub.status.idle": "2021-10-12T06:12:34.224947Z",
     "shell.execute_reply": "2021-10-12T06:12:34.226047Z",
     "shell.execute_reply.started": "2021-10-11T05:56:52.197271Z"
    },
    "papermill": {
     "duration": 1277.022814,
     "end_time": "2021-10-12T06:12:34.226271",
     "exception": false,
     "start_time": "2021-10-12T05:51:17.203457",
     "status": "completed"
    },
    "tags": []
   },
   "outputs": [
    {
     "name": "stdout",
     "output_type": "stream",
     "text": [
      "Epoch 1/20\n"
     ]
    },
    {
     "name": "stderr",
     "output_type": "stream",
     "text": [
      "2021-10-12 05:51:19.981806: I tensorflow/compiler/mlir/mlir_graph_optimization_pass.cc:116] None of the MLIR optimization passes are enabled (registered 2)\n",
      "2021-10-12 05:51:19.986052: I tensorflow/core/platform/profile_utils/cpu_utils.cc:112] CPU Frequency: 2000175000 Hz\n",
      "2021-10-12 05:51:23.363710: I tensorflow/stream_executor/platform/default/dso_loader.cc:49] Successfully opened dynamic library libcublas.so.11\n",
      "2021-10-12 05:51:24.433231: I tensorflow/stream_executor/platform/default/dso_loader.cc:49] Successfully opened dynamic library libcublasLt.so.11\n",
      "2021-10-12 05:51:32.102196: I tensorflow/stream_executor/platform/default/dso_loader.cc:49] Successfully opened dynamic library libcudnn.so.8\n"
     ]
    },
    {
     "name": "stdout",
     "output_type": "stream",
     "text": [
      "141/141 [==============================] - 91s 504ms/step - loss: 1477.1945 - root_mean_squared_error: 38.4263 - val_loss: 1360.8451 - val_root_mean_squared_error: 36.8896\n",
      "Epoch 2/20\n",
      "141/141 [==============================] - 61s 395ms/step - loss: 943.5269 - root_mean_squared_error: 30.6816 - val_loss: 648.0403 - val_root_mean_squared_error: 25.4566\n",
      "Epoch 3/20\n",
      "141/141 [==============================] - 62s 396ms/step - loss: 510.1442 - root_mean_squared_error: 22.5661 - val_loss: 385.6288 - val_root_mean_squared_error: 19.6374\n",
      "Epoch 4/20\n",
      "141/141 [==============================] - 62s 403ms/step - loss: 408.6861 - root_mean_squared_error: 20.2112 - val_loss: 351.1861 - val_root_mean_squared_error: 18.7400\n",
      "Epoch 5/20\n",
      "141/141 [==============================] - 61s 394ms/step - loss: 379.8318 - root_mean_squared_error: 19.4798 - val_loss: 341.8661 - val_root_mean_squared_error: 18.4896\n",
      "Epoch 6/20\n",
      "141/141 [==============================] - 63s 401ms/step - loss: 373.7028 - root_mean_squared_error: 19.3302 - val_loss: 336.0170 - val_root_mean_squared_error: 18.3308\n",
      "Epoch 7/20\n",
      "141/141 [==============================] - 63s 401ms/step - loss: 361.5953 - root_mean_squared_error: 19.0143 - val_loss: 332.6955 - val_root_mean_squared_error: 18.2399\n",
      "Epoch 8/20\n",
      "141/141 [==============================] - 63s 399ms/step - loss: 353.8548 - root_mean_squared_error: 18.8100 - val_loss: 330.2555 - val_root_mean_squared_error: 18.1729\n",
      "Epoch 9/20\n",
      "141/141 [==============================] - 62s 397ms/step - loss: 346.8650 - root_mean_squared_error: 18.6225 - val_loss: 329.8425 - val_root_mean_squared_error: 18.1616\n",
      "Epoch 10/20\n",
      "141/141 [==============================] - 63s 404ms/step - loss: 345.4328 - root_mean_squared_error: 18.5833 - val_loss: 328.5392 - val_root_mean_squared_error: 18.1257\n",
      "Epoch 11/20\n",
      "141/141 [==============================] - 60s 388ms/step - loss: 338.6481 - root_mean_squared_error: 18.4011 - val_loss: 328.0747 - val_root_mean_squared_error: 18.1128\n",
      "Epoch 12/20\n",
      "141/141 [==============================] - 63s 403ms/step - loss: 335.8024 - root_mean_squared_error: 18.3230 - val_loss: 326.1255 - val_root_mean_squared_error: 18.0589\n",
      "Epoch 13/20\n",
      "141/141 [==============================] - 62s 402ms/step - loss: 335.5523 - root_mean_squared_error: 18.3163 - val_loss: 326.1253 - val_root_mean_squared_error: 18.0589\n",
      "Epoch 14/20\n",
      "141/141 [==============================] - 62s 402ms/step - loss: 325.4304 - root_mean_squared_error: 18.0375 - val_loss: 324.9955 - val_root_mean_squared_error: 18.0276\n",
      "Epoch 15/20\n",
      "141/141 [==============================] - 63s 404ms/step - loss: 325.4096 - root_mean_squared_error: 18.0383 - val_loss: 324.6031 - val_root_mean_squared_error: 18.0167\n",
      "Epoch 16/20\n",
      "141/141 [==============================] - 63s 408ms/step - loss: 319.3971 - root_mean_squared_error: 17.8712 - val_loss: 322.6294 - val_root_mean_squared_error: 17.9619\n",
      "Epoch 17/20\n",
      "141/141 [==============================] - 63s 406ms/step - loss: 326.5616 - root_mean_squared_error: 18.0698 - val_loss: 322.8076 - val_root_mean_squared_error: 17.9668\n",
      "Epoch 18/20\n",
      "141/141 [==============================] - 63s 404ms/step - loss: 316.9690 - root_mean_squared_error: 17.8028 - val_loss: 321.3434 - val_root_mean_squared_error: 17.9261\n",
      "Epoch 19/20\n",
      "141/141 [==============================] - 63s 399ms/step - loss: 313.7325 - root_mean_squared_error: 17.7088 - val_loss: 322.6483 - val_root_mean_squared_error: 17.9624\n",
      "Epoch 20/20\n",
      "141/141 [==============================] - 63s 405ms/step - loss: 312.2856 - root_mean_squared_error: 17.6695 - val_loss: 321.2075 - val_root_mean_squared_error: 17.9223\n"
     ]
    }
   ],
   "source": [
    "# Compiling and Fitting the model\n",
    "\n",
    "model.compile(loss=\"mse\", \n",
    "              optimizer = Ranger(learning_rate = lr_schedule), \n",
    "              metrics=[tf.keras.metrics.RootMeanSquaredError()])\n",
    "\n",
    "predictor = model.fit(train,\n",
    "                      epochs=20, \n",
    "                      validation_data = validation,\n",
    "                      callbacks=[early_stopping])"
   ]
  },
  {
   "cell_type": "code",
   "execution_count": 11,
   "id": "7c26e559",
   "metadata": {
    "execution": {
     "iopub.execute_input": "2021-10-12T06:12:35.903716Z",
     "iopub.status.busy": "2021-10-12T06:12:35.902817Z",
     "iopub.status.idle": "2021-10-12T06:12:35.904677Z",
     "shell.execute_reply": "2021-10-12T06:12:35.905128Z",
     "shell.execute_reply.started": "2021-10-11T06:15:30.497061Z"
    },
    "papermill": {
     "duration": 0.772679,
     "end_time": "2021-10-12T06:12:35.905270",
     "exception": false,
     "start_time": "2021-10-12T06:12:35.132591",
     "status": "completed"
    },
    "tags": []
   },
   "outputs": [],
   "source": [
    "# 18.42\n",
    "# Last trained    train  --  16.42,    test   --   18.33\n",
    "# See accuracy for MLP meta data"
   ]
  },
  {
   "cell_type": "markdown",
   "id": "4e786728",
   "metadata": {
    "papermill": {
     "duration": 1.013914,
     "end_time": "2021-10-12T06:12:37.677438",
     "exception": false,
     "start_time": "2021-10-12T06:12:36.663524",
     "status": "completed"
    },
    "tags": []
   },
   "source": [
    "## Prediction"
   ]
  },
  {
   "cell_type": "code",
   "execution_count": 12,
   "id": "aca8084a",
   "metadata": {
    "execution": {
     "iopub.execute_input": "2021-10-12T06:12:39.455077Z",
     "iopub.status.busy": "2021-10-12T06:12:39.454516Z",
     "iopub.status.idle": "2021-10-12T06:12:40.792711Z",
     "shell.execute_reply": "2021-10-12T06:12:40.791566Z",
     "shell.execute_reply.started": "2021-10-11T06:15:30.503268Z"
    },
    "papermill": {
     "duration": 2.089264,
     "end_time": "2021-10-12T06:12:40.792855",
     "exception": false,
     "start_time": "2021-10-12T06:12:38.703591",
     "status": "completed"
    },
    "tags": []
   },
   "outputs": [],
   "source": [
    "# Making prediction on test set\n",
    "\n",
    "pred = model.predict(test)\n",
    "\n",
    "final=pd.DataFrame()\n",
    "final['Id']=Id\n",
    "final['Pawpularity']=pred\n",
    "final.to_csv('submission.csv',index=False)"
   ]
  }
 ],
 "metadata": {
  "kernelspec": {
   "display_name": "Python 3",
   "language": "python",
   "name": "python3"
  },
  "language_info": {
   "codemirror_mode": {
    "name": "ipython",
    "version": 3
   },
   "file_extension": ".py",
   "mimetype": "text/x-python",
   "name": "python",
   "nbconvert_exporter": "python",
   "pygments_lexer": "ipython3",
   "version": "3.7.10"
  },
  "papermill": {
   "default_parameters": {},
   "duration": 1307.42084,
   "end_time": "2021-10-12T06:12:44.637333",
   "environment_variables": {},
   "exception": null,
   "input_path": "__notebook__.ipynb",
   "output_path": "__notebook__.ipynb",
   "parameters": {},
   "start_time": "2021-10-12T05:50:57.216493",
   "version": "2.3.3"
  }
 },
 "nbformat": 4,
 "nbformat_minor": 5
}
